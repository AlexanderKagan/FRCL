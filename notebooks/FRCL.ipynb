{
 "cells": [
  {
   "cell_type": "code",
   "execution_count": 1,
   "metadata": {},
   "outputs": [],
   "source": [
    "import matplotlib\n",
    "import numpy as np\n",
    "import matplotlib.pyplot as plt\n",
    "%matplotlib inline\n",
    "\n",
    "import warnings\n",
    "warnings.filterwarnings('ignore')\n",
    "from IPython.display import clear_output\n",
    "\n",
    "import torch\n",
    "torch.random.manual_seed(0xBADBEEF)\n",
    "\n",
    "import os, sys\n",
    "sys.path.append(\"..\")\n",
    "from frcl.datasets.split_mnist import SplitMnistDataset\n",
    "from frcl.models import SplitMnistModel\n",
    "from frcl.frcl import CLBaseline, FRCL\n",
    "from torch.utils.data import DataLoader\n",
    "from frcl.utils import CLDataLoader, cl_batch_to_device, cl_batch_target_float"
   ]
  },
  {
   "cell_type": "code",
   "execution_count": 2,
   "metadata": {},
   "outputs": [],
   "source": [
    "batch_size = 100\n",
    "learning_rate = 1e-5\n",
    "device = 'cuda'\n",
    "if device == 'cuda':\n",
    "    torch.cuda.empty_cache()"
   ]
  },
  {
   "cell_type": "markdown",
   "metadata": {},
   "source": [
    "# First task"
   ]
  },
  {
   "cell_type": "code",
   "execution_count": 3,
   "metadata": {},
   "outputs": [],
   "source": [
    "train_0_1_dataset = SplitMnistDataset(0, 1, normalize=True)\n",
    "train_0_1_dl = DataLoader(train_0_1_dataset, batch_size=batch_size, shuffle=True)\n",
    "test_0_1_dataset = SplitMnistDataset(0, 1, train=False, normalize=True)\n",
    "test_0_1_dl = DataLoader(test_0_1_dataset, batch_size=batch_size, shuffle=False)"
   ]
  },
  {
   "cell_type": "code",
   "execution_count": 4,
   "metadata": {},
   "outputs": [],
   "source": [
    "base_model = SplitMnistModel()\n",
    "cl_model = FRCL(base_model, base_model.hid, device, 1).to(device)"
   ]
  },
  {
   "cell_type": "code",
   "execution_count": 5,
   "metadata": {},
   "outputs": [],
   "source": [
    "optim_0_1 = torch.optim.Adam(cl_model.parameters(), lr=learning_rate)\n",
    "train_loader = CLDataLoader()\n",
    "train_loader.append(train_0_1_dataset, batch_size)"
   ]
  },
  {
   "cell_type": "code",
   "execution_count": 6,
   "metadata": {},
   "outputs": [],
   "source": [
    "def make_x_y(hist):\n",
    "    x = np.concatenate([np.linspace(i, i + 1, len(hist[i]), endpoint=False) for i in range(len(hist))])\n",
    "    y = np.concatenate([np.asarray(epoch_hist) for epoch_hist in hist])\n",
    "    return x, y\n",
    "\n",
    "def train_model_once(train_loader, cl_model, optim, device):\n",
    "    loss_hist = []\n",
    "    curr_loss = 0.\n",
    "    upd_factor = 20\n",
    "    i = 0\n",
    "    for X in train_loader:\n",
    "       # cl_batch_to_device(X, device=device)\n",
    "        cl_batch_target_float(X)\n",
    "        optim.zero_grad()\n",
    "        loss = cl_model(X[0].cuda(), X[1].cuda() * 2 - 1, len(train_loader) * batch_size)\n",
    "        loss.backward()\n",
    "        optim.step()\n",
    "        curr_loss += loss.item()\n",
    "        if (i + 1) % upd_factor == 0:\n",
    "            curr_loss /= upd_factor\n",
    "            loss_hist.append(curr_loss)\n",
    "            curr_loss = 0\n",
    "        i += 1\n",
    "    return loss_hist\n",
    "\n",
    "def train_model(train_loader, cl_model, optim, max_epochs, device):\n",
    "    loss_hist = []\n",
    "    for e in range(max_epochs):\n",
    "        loss = train_model_once(train_loader, cl_model, optim, device)\n",
    "        loss_hist.append(loss)\n",
    "        clear_output(wait=True)\n",
    "\n",
    "        x, y = make_x_y(loss_hist)\n",
    "        plt.plot(x, y)\n",
    "        plt.title('Loss')\n",
    "        plt.show()"
   ]
  },
  {
   "cell_type": "code",
   "execution_count": 7,
   "metadata": {},
   "outputs": [
    {
     "data": {
      "image/png": "[encoded data removed]",
      "text/plain": [
       "<Figure size 432x288 with 1 Axes>"
      ]
     },
     "metadata": {
      "needs_background": "light"
     },
     "output_type": "display_data"
    }
   ],
   "source": [
    "train_model(train_0_1_dl, cl_model, optim_0_1, 20, device)"
   ]
  },
  {
   "cell_type": "code",
   "execution_count": 8,
   "metadata": {},
   "outputs": [],
   "source": [
    "cl_model.select_inducing(train_0_1_dl)"
   ]
  },
  {
   "cell_type": "code",
   "execution_count": 9,
   "metadata": {},
   "outputs": [
    {
     "name": "stdout",
     "output_type": "stream",
     "text": [
      "task 0 1 after training task 0 1 accuracy: 0.9990909090909091\n"
     ]
    }
   ],
   "source": [
    "acc = []\n",
    "for x, target in test_0_1_dl:\n",
    "    x_pred = (cl_model.predict(x, 0).cpu().numpy() > 1/2).astype(int)\n",
    "    acc.append(np.sum(x_pred == target.cpu().numpy())/ len(x_pred))\n",
    "print('task 0 1 after training task 0 1 accuracy:', np.mean(acc))"
   ]
  },
  {
   "cell_type": "markdown",
   "metadata": {},
   "source": [
    "## Second task\n"
   ]
  },
  {
   "cell_type": "code",
   "execution_count": 10,
   "metadata": {},
   "outputs": [],
   "source": [
    "train_2_3_dataset = SplitMnistDataset(2, 3, normalize=True)\n",
    "train_2_3_dl = DataLoader(train_2_3_dataset, batch_size=batch_size, shuffle=True)\n",
    "test_2_3_dataset = SplitMnistDataset(2, 3, train=False, normalize=True)\n",
    "test_2_3_dl = DataLoader(test_2_3_dataset, batch_size=batch_size, shuffle=False)"
   ]
  },
  {
   "cell_type": "code",
   "execution_count": 11,
   "metadata": {},
   "outputs": [],
   "source": [
    "optim_2_3 = torch.optim.Adam(cl_model.parameters(), lr=learning_rate)"
   ]
  },
  {
   "cell_type": "code",
   "execution_count": 12,
   "metadata": {},
   "outputs": [
    {
     "data": {
      "image/png": "[encoded data removed]",
      "text/plain": [
       "<Figure size 432x288 with 1 Axes>"
      ]
     },
     "metadata": {
      "needs_background": "light"
     },
     "output_type": "display_data"
    }
   ],
   "source": [
    "train_model(train_2_3_dl, cl_model, optim_2_3, 20, device)"
   ]
  },
  {
   "cell_type": "code",
   "execution_count": 13,
   "metadata": {},
   "outputs": [],
   "source": [
    "cl_model.select_inducing(train_2_3_dl)"
   ]
  },
  {
   "cell_type": "code",
   "execution_count": 14,
   "metadata": {},
   "outputs": [
    {
     "name": "stdout",
     "output_type": "stream",
     "text": [
      "task 0 1 after training task 2 3 accuracy: 0.995909090909091\n"
     ]
    }
   ],
   "source": [
    "acc = []\n",
    "for x, target in test_0_1_dl:\n",
    "    x_pred = (cl_model.predict(x, 0).cpu().numpy() > 1/2).astype(int)\n",
    "    acc.append(np.sum(x_pred == target.cpu().numpy())/ len(x_pred))\n",
    "print('task 0 1 after training task 2 3 accuracy:', np.mean(acc))"
   ]
  },
  {
   "cell_type": "code",
   "execution_count": 15,
   "metadata": {},
   "outputs": [
    {
     "name": "stdout",
     "output_type": "stream",
     "text": [
      "task 2 3 after training task 2 3 accuracy: 0.9808843537414964\n"
     ]
    }
   ],
   "source": [
    "acc = []\n",
    "for x, target in test_2_3_dl:\n",
    "    x_pred = (cl_model.predict(x, 1).cpu().numpy() > 1/2).astype(int)\n",
    "    acc.append(np.sum(x_pred == target.cpu().numpy())/ len(x_pred))\n",
    "print('task 2 3 after training task 2 3 accuracy:', np.mean(acc))"
   ]
  },
  {
   "cell_type": "markdown",
   "metadata": {},
   "source": [
    "# Third task"
   ]
  },
  {
   "cell_type": "code",
   "execution_count": 16,
   "metadata": {},
   "outputs": [],
   "source": [
    "train_4_5_dataset = SplitMnistDataset(4, 5, normalize=True)\n",
    "train_4_5_dl = DataLoader(train_4_5_dataset, batch_size=batch_size, shuffle=True)\n",
    "test_4_5_dataset = SplitMnistDataset(4, 5, train=False, normalize=True)\n",
    "test_4_5_dl = DataLoader(test_4_5_dataset, batch_size=batch_size, shuffle=False)"
   ]
  },
  {
   "cell_type": "code",
   "execution_count": 17,
   "metadata": {},
   "outputs": [
    {
     "data": {
      "image/png": "[encoded data removed]",
      "text/plain": [
       "<Figure size 432x288 with 1 Axes>"
      ]
     },
     "metadata": {
      "needs_background": "light"
     },
     "output_type": "display_data"
    }
   ],
   "source": [
    "optim_4_5 = torch.optim.Adam(cl_model.parameters(), lr=learning_rate)\n",
    "train_model(train_4_5_dl, cl_model, optim_4_5, 20, device)"
   ]
  },
  {
   "cell_type": "code",
   "execution_count": 18,
   "metadata": {},
   "outputs": [],
   "source": [
    "cl_model.select_inducing(train_4_5_dl)"
   ]
  },
  {
   "cell_type": "code",
   "execution_count": 19,
   "metadata": {},
   "outputs": [
    {
     "name": "stdout",
     "output_type": "stream",
     "text": [
      "task 4 5 after training task 4 5 accuracy: 0.9978947368421053\n"
     ]
    }
   ],
   "source": [
    "acc = []\n",
    "for x, target in test_4_5_dl:\n",
    "    x_pred = (cl_model.predict(x, 2).cpu().numpy() > 1/2).astype(int)\n",
    "    acc.append(np.sum(x_pred == target.cpu().numpy())/ len(x_pred))\n",
    "print('task 4 5 after training task 4 5 accuracy:', np.mean(acc))"
   ]
  },
  {
   "cell_type": "code",
   "execution_count": 20,
   "metadata": {},
   "outputs": [
    {
     "name": "stdout",
     "output_type": "stream",
     "text": [
      "task 0 1 after training task 4 5 accuracy: 0.9949999999999999\n"
     ]
    }
   ],
   "source": [
    "acc = []\n",
    "for x, target in test_0_1_dl:\n",
    "    x_pred = (cl_model.predict(x, 0).cpu().numpy() > 1/2).astype(int)\n",
    "    acc.append(np.sum(x_pred == target.cpu().numpy())/ len(x_pred))\n",
    "print('task 0 1 after training task 4 5 accuracy:', np.mean(acc))"
   ]
  }
 ],
 "metadata": {
  "kernelspec": {
   "display_name": "Python 3",
   "language": "python",
   "name": "python3"
  },
  "language_info": {
   "codemirror_mode": {
    "name": "ipython",
    "version": 3
   },
   "file_extension": ".py",
   "mimetype": "text/x-python",
   "name": "python",
   "nbconvert_exporter": "python",
   "pygments_lexer": "ipython3",
   "version": "3.6.9"
  }
 },
 "nbformat": 4,
 "nbformat_minor": 4
}
